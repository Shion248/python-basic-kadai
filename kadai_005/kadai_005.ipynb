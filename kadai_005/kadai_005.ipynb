{
  "nbformat": 4,
  "nbformat_minor": 0,
  "metadata": {
    "colab": {
      "provenance": []
    },
    "kernelspec": {
      "name": "python3",
      "display_name": "Python 3"
    },
    "language_info": {
      "name": "python"
    }
  },
  "cells": [
    {
      "cell_type": "code",
      "source": [
        "top_side = 10\n",
        "bottom_side = 20\n",
        "height = 5\n",
        "answer = (top_side + bottom_side) * height / 2\n",
        "\n",
        "print(f\"上辺：{top_side}cm\")\n",
        "print(f\"下辺：{bottom_side}cm\")\n",
        "print(f\"高さ：{height}cm\")\n",
        "print(\"公式：台形の面積 = (上辺 + 下辺) × 高さ ÷ 2\")\n",
        "print(f\"答え：{answer}㎠\")\n"
      ],
      "metadata": {
        "colab": {
          "base_uri": "https://localhost:8080/"
        },
        "id": "DfK83UB8TiDL",
        "outputId": "4ad331da-3b18-4d9b-a925-fb8146404036"
      },
      "execution_count": 9,
      "outputs": [
        {
          "output_type": "stream",
          "name": "stdout",
          "text": [
            "上辺：10cm\n",
            "下辺：20cm\n",
            "高さ：5cm\n",
            "公式：台形の面積 = (上辺 + 下辺) × 高さ ÷ 2\n",
            "答え：75.0㎠\n"
          ]
        }
      ]
    }
  ]
}