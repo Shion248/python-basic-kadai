{
  "nbformat": 4,
  "nbformat_minor": 0,
  "metadata": {
    "colab": {
      "provenance": [],
      "authorship_tag": "ABX9TyN7bB4BAm9ECYPGJOQwi4+U"
    },
    "kernelspec": {
      "name": "python3",
      "display_name": "Python 3"
    },
    "language_info": {
      "name": "python"
    }
  },
  "cells": [
    {
      "cell_type": "code",
      "execution_count": 4,
      "metadata": {
        "colab": {
          "base_uri": "https://localhost:8080/"
        },
        "id": "GISItwrL9MGk",
        "outputId": "0831f09a-44e6-464e-ae1b-5effd06e63cb"
      },
      "outputs": [
        {
          "output_type": "stream",
          "name": "stdout",
          "text": [
            "Name: 田中太郎\n",
            "Age: 30\n"
          ]
        }
      ],
      "source": [
        "class Human:\n",
        "  def __init__(self,name,age):\n",
        "    self.name = name\n",
        "    self.age = age\n",
        "\n",
        "  def printinfo(self):\n",
        "    print(f\"Name: {self.name}\")\n",
        "    print(f\"Age: {self.age}\")\n",
        "\n",
        "human1 = Human(\"田中太郎\", 30)\n",
        "human1.printinfo()\n"
      ]
    }
  ]
}