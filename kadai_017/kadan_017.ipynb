{
  "nbformat": 4,
  "nbformat_minor": 0,
  "metadata": {
    "colab": {
      "provenance": [],
      "authorship_tag": "ABX9TyOIDO8eEGB2sZiY7+wmSzn6"
    },
    "kernelspec": {
      "name": "python3",
      "display_name": "Python 3"
    },
    "language_info": {
      "name": "python"
    }
  },
  "cells": [
    {
      "cell_type": "code",
      "source": [
        "class Human:\n",
        "  def __init__(self, name, age):\n",
        "    self.name = name\n",
        "    self.age = age\n",
        "\n",
        "  def check_adult(self):\n",
        "    if self.age >= 20:\n",
        "      print(f\"{self.name}は大人です。\")\n",
        "    else:\n",
        "      print(f\"{self.name}は大人ではありません。\")\n",
        "\n",
        "human1 = Human(\"太郎\", 18)\n",
        "human2 = Human(\"花子\", 20)\n",
        "human3 = Human(\"健太\", 30)\n",
        "\n",
        "for human in [human1, human2, human3]:\n",
        "  human.check_adult()"
      ],
      "metadata": {
        "colab": {
          "base_uri": "https://localhost:8080/"
        },
        "id": "7lksrVLkCdAY",
        "outputId": "13473a41-f761-449c-a97e-efa778af5ee4"
      },
      "execution_count": 3,
      "outputs": [
        {
          "output_type": "stream",
          "name": "stdout",
          "text": [
            "太郎は大人ではありません。\n",
            "花子は大人です。\n",
            "健太は大人です。\n"
          ]
        }
      ]
    }
  ]
}