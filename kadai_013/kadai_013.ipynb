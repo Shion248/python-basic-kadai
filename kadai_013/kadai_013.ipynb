{
  "nbformat": 4,
  "nbformat_minor": 0,
  "metadata": {
    "colab": {
      "provenance": [],
      "authorship_tag": "ABX9TyMZ6C2liwptNGYN6X/flydC"
    },
    "kernelspec": {
      "name": "python3",
      "display_name": "Python 3"
    },
    "language_info": {
      "name": "python"
    }
  },
  "cells": [
    {
      "cell_type": "code",
      "execution_count": 4,
      "metadata": {
        "colab": {
          "base_uri": "https://localhost:8080/"
        },
        "id": "m3PQm79t5MxK",
        "outputId": "413d64c0-544e-4112-e185-6284532b3a87"
      },
      "outputs": [
        {
          "output_type": "execute_result",
          "data": {
            "text/plain": [
              "121.0"
            ]
          },
          "metadata": {},
          "execution_count": 4
        }
      ],
      "source": [
        "def add_tax(price, tax_rate):\n",
        "  return price + (price * (tax_rate * 0.01))\n",
        "\n",
        "add_tax(110, 10)"
      ]
    }
  ]
}